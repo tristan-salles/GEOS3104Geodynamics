{
 "cells": [
  {
   "cell_type": "markdown",
   "metadata": {},
   "source": [
    "# Container exercises\n",
    "\n",
    "First you will copy the _exercises_ that will be use in this course to your **home** directory.\n",
    "\n",
    "**GEOS3104Geodynamics** image has been built with a series of exercises. \n",
    "\n",
    "These exercises are located in the following folder:\n",
    "\n",
    "```/build/GEOS3104Geodynamics/Exercises/```\n",
    "\n",
    "<div class=\"alert alert-success\">\n",
    "With Jupyter it is possible to use **Shell Commands** by prepending an exclamation point ```!``` to a normal shell command. \n",
    "</div>\n",
    "\n",
    "In this way the _python cell_ will behave like a **Linux terminal**.\n",
    "\n",
    "Here we use this capability to list (shell command: ```ls```) the different exercises available:"
   ]
  },
  {
   "cell_type": "code",
   "execution_count": null,
   "metadata": {},
   "outputs": [],
   "source": [
    "!ls /build/GEOS3104Geodynamics/Exercises/"
   ]
  },
  {
   "cell_type": "markdown",
   "metadata": {},
   "source": [
    "# Copy 2 workspace\n",
    "\n",
    "Now we want to copy this folder (_Exercises_) to the workspace. \n",
    "\n",
    "To copy a folder using the **Shell command**, we need to know the _SOURCE_ (here the folder _Exercises_) and the _DESTINATION_ (here the place where we will be working). \n",
    "\n",
    "For this course our working folder will be the ```/home``` folder. Using the Shell command ```pwd```, one can print the full pathname of the current working directory. \n",
    "\n",
    "Let see what the command returns:"
   ]
  },
  {
   "cell_type": "code",
   "execution_count": null,
   "metadata": {},
   "outputs": [],
   "source": [
    "!pwd"
   ]
  },
  {
   "cell_type": "markdown",
   "metadata": {},
   "source": [
    "Ok we are in the right spot! \n",
    "\n",
    "The **Shell command** to copy files and folders is simply ```cp```. \n",
    "\n",
    "For most Linux commands, it is possible to have some informations in regards to the different options that a specific command have by adding ```--help``` after the command.\n",
    "\n",
    "Have a go with the ```cp``` command:"
   ]
  },
  {
   "cell_type": "code",
   "execution_count": null,
   "metadata": {},
   "outputs": [],
   "source": [
    "!cp --help"
   ]
  },
  {
   "cell_type": "markdown",
   "metadata": {},
   "source": [
    "\n",
    "As we can see from what was returned by the ```ls``` command above the **Exercises** folder contains several things:\n",
    "- pdf files\n",
    "- ipython notebooks (.ipynb)\n",
    "- series of folders containing the model (here **Ellipsis**) input files\n",
    "\n",
    "\n",
    "From the options list, we see that the **-r** (i.e., recursive) option, which can also be written with an upper case **R**, allows directories including all of their contents to be copied. \n",
    "\n",
    "_Directories are not copied by default in order to make it more difficult for users to accidentally overwrite existing directories._\n",
    "\n",
    "As the **Exercises** folder contains some sub-folders, we will use the above option (```-R```) for our command:  "
   ]
  },
  {
   "cell_type": "code",
   "execution_count": null,
   "metadata": {},
   "outputs": [],
   "source": [
    "!cp -R /build/GEOS3104Geodynamics/Exercises/*  /home"
   ]
  },
  {
   "cell_type": "markdown",
   "metadata": {},
   "source": [
    "We can check that the command has worked successfully by using the ```ls``` command again:"
   ]
  },
  {
   "cell_type": "code",
   "execution_count": null,
   "metadata": {},
   "outputs": [],
   "source": [
    "!ls"
   ]
  },
  {
   "cell_type": "markdown",
   "metadata": {},
   "source": [
    "\n",
    "<div class=\"alert alert-success\">\n",
    "**Ok we have everything we need for the course!**\n",
    "</div>"
   ]
  },
  {
   "cell_type": "code",
   "execution_count": null,
   "metadata": {},
   "outputs": [],
   "source": []
  }
 ],
 "metadata": {
  "kernelspec": {
   "display_name": "Python 2",
   "language": "python",
   "name": "python2"
  },
  "language_info": {
   "codemirror_mode": {
    "name": "ipython",
    "version": 2
   },
   "file_extension": ".py",
   "mimetype": "text/x-python",
   "name": "python",
   "nbconvert_exporter": "python",
   "pygments_lexer": "ipython2",
   "version": "2.7.6"
  }
 },
 "nbformat": 4,
 "nbformat_minor": 2
}
