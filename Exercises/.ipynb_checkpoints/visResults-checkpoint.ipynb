{
 "cells": [
  {
   "cell_type": "code",
   "execution_count": 1,
   "metadata": {
    "collapsed": false
   },
   "outputs": [],
   "source": [
    "from matplotlib.pyplot import imshow\n",
    "import matplotlib.pyplot as plt\n",
    "import numpy as np\n",
    "from PIL import Image\n",
    "\n",
    "%matplotlib inline"
   ]
  },
  {
   "cell_type": "markdown",
   "metadata": {},
   "source": [
    "# Visualise ellipsis outputs\n"
   ]
  },
  {
   "cell_type": "code",
   "execution_count": 2,
   "metadata": {
    "collapsed": false,
    "scrolled": true
   },
   "outputs": [
    {
     "name": "stdout",
     "output_type": "stream",
     "text": [
      "Pract_Convection/ConvMod2.00001.ppm0  Pract_Convection/ConvMod2.00092.ppm0\r\n",
      "Pract_Convection/ConvMod2.00002.ppm0  Pract_Convection/ConvMod2.00093.ppm0\r\n",
      "Pract_Convection/ConvMod2.00003.ppm0  Pract_Convection/ConvMod2.00094.ppm0\r\n",
      "Pract_Convection/ConvMod2.00004.ppm0  Pract_Convection/ConvMod2.00095.ppm0\r\n",
      "Pract_Convection/ConvMod2.00005.ppm0  Pract_Convection/ConvMod2.00096.ppm0\r\n",
      "Pract_Convection/ConvMod2.00006.ppm0  Pract_Convection/ConvMod2.00097.ppm0\r\n",
      "Pract_Convection/ConvMod2.00007.ppm0  Pract_Convection/ConvMod2.00098.ppm0\r\n",
      "Pract_Convection/ConvMod2.00008.ppm0  Pract_Convection/ConvMod2.00099.ppm0\r\n",
      "Pract_Convection/ConvMod2.00009.ppm0  Pract_Convection/ConvMod2.00100.ppm0\r\n",
      "Pract_Convection/ConvMod2.00010.ppm0  Pract_Convection/ConvMod2.00101.ppm0\r\n",
      "Pract_Convection/ConvMod2.00011.ppm0  Pract_Convection/ConvMod2.00102.ppm0\r\n",
      "Pract_Convection/ConvMod2.00012.ppm0  Pract_Convection/ConvMod2.00103.ppm0\r\n",
      "Pract_Convection/ConvMod2.00013.ppm0  Pract_Convection/ConvMod2.00104.ppm0\r\n",
      "Pract_Convection/ConvMod2.00014.ppm0  Pract_Convection/ConvMod2.00105.ppm0\r\n",
      "Pract_Convection/ConvMod2.00015.ppm0  Pract_Convection/ConvMod2.00106.ppm0\r\n",
      "Pract_Convection/ConvMod2.00016.ppm0  Pract_Convection/ConvMod2.00107.ppm0\r\n",
      "Pract_Convection/ConvMod2.00017.ppm0  Pract_Convection/ConvMod2.00108.ppm0\r\n",
      "Pract_Convection/ConvMod2.00018.ppm0  Pract_Convection/ConvMod2.00109.ppm0\r\n",
      "Pract_Convection/ConvMod2.00019.ppm0  Pract_Convection/ConvMod2.00110.ppm0\r\n",
      "Pract_Convection/ConvMod2.00020.ppm0  Pract_Convection/ConvMod2.00111.ppm0\r\n",
      "Pract_Convection/ConvMod2.00021.ppm0  Pract_Convection/ConvMod2.00112.ppm0\r\n",
      "Pract_Convection/ConvMod2.00022.ppm0  Pract_Convection/ConvMod2.00113.ppm0\r\n",
      "Pract_Convection/ConvMod2.00023.ppm0  Pract_Convection/ConvMod2.00114.ppm0\r\n",
      "Pract_Convection/ConvMod2.00024.ppm0  Pract_Convection/ConvMod2.00115.ppm0\r\n",
      "Pract_Convection/ConvMod2.00025.ppm0  Pract_Convection/ConvMod2.00116.ppm0\r\n",
      "Pract_Convection/ConvMod2.00026.ppm0  Pract_Convection/ConvMod2.00117.ppm0\r\n",
      "Pract_Convection/ConvMod2.00027.ppm0  Pract_Convection/ConvMod2.00118.ppm0\r\n",
      "Pract_Convection/ConvMod2.00028.ppm0  Pract_Convection/ConvMod2.00119.ppm0\r\n",
      "Pract_Convection/ConvMod2.00029.ppm0  Pract_Convection/ConvMod2.00120.ppm0\r\n",
      "Pract_Convection/ConvMod2.00030.ppm0  Pract_Convection/ConvMod2.00121.ppm0\r\n",
      "Pract_Convection/ConvMod2.00031.ppm0  Pract_Convection/ConvMod2.00122.ppm0\r\n",
      "Pract_Convection/ConvMod2.00032.ppm0  Pract_Convection/ConvMod2.00123.ppm0\r\n",
      "Pract_Convection/ConvMod2.00033.ppm0  Pract_Convection/ConvMod2.00124.ppm0\r\n",
      "Pract_Convection/ConvMod2.00034.ppm0  Pract_Convection/ConvMod2.00125.ppm0\r\n",
      "Pract_Convection/ConvMod2.00035.ppm0  Pract_Convection/ConvMod2.00126.ppm0\r\n",
      "Pract_Convection/ConvMod2.00036.ppm0  Pract_Convection/ConvMod2.00127.ppm0\r\n",
      "Pract_Convection/ConvMod2.00037.ppm0  Pract_Convection/ConvMod2.00128.ppm0\r\n",
      "Pract_Convection/ConvMod2.00038.ppm0  Pract_Convection/ConvMod2.00129.ppm0\r\n",
      "Pract_Convection/ConvMod2.00039.ppm0  Pract_Convection/ConvMod2.00130.ppm0\r\n",
      "Pract_Convection/ConvMod2.00040.ppm0  Pract_Convection/ConvMod2.00131.ppm0\r\n",
      "Pract_Convection/ConvMod2.00041.ppm0  Pract_Convection/ConvMod2.00132.ppm0\r\n",
      "Pract_Convection/ConvMod2.00042.ppm0  Pract_Convection/ConvMod2.00133.ppm0\r\n",
      "Pract_Convection/ConvMod2.00043.ppm0  Pract_Convection/ConvMod2.00134.ppm0\r\n",
      "Pract_Convection/ConvMod2.00044.ppm0  Pract_Convection/ConvMod2.00135.ppm0\r\n",
      "Pract_Convection/ConvMod2.00045.ppm0  Pract_Convection/ConvMod2.00136.ppm0\r\n",
      "Pract_Convection/ConvMod2.00046.ppm0  Pract_Convection/ConvMod2.00137.ppm0\r\n",
      "Pract_Convection/ConvMod2.00047.ppm0  Pract_Convection/ConvMod2.00138.ppm0\r\n",
      "Pract_Convection/ConvMod2.00048.ppm0  Pract_Convection/ConvMod2.00139.ppm0\r\n",
      "Pract_Convection/ConvMod2.00049.ppm0  Pract_Convection/ConvMod2.00140.ppm0\r\n",
      "Pract_Convection/ConvMod2.00050.ppm0  Pract_Convection/ConvMod2.00141.ppm0\r\n",
      "Pract_Convection/ConvMod2.00051.ppm0  Pract_Convection/ConvMod2.00142.ppm0\r\n",
      "Pract_Convection/ConvMod2.00052.ppm0  Pract_Convection/ConvMod2.00143.ppm0\r\n",
      "Pract_Convection/ConvMod2.00053.ppm0  Pract_Convection/ConvMod2.00144.ppm0\r\n",
      "Pract_Convection/ConvMod2.00054.ppm0  Pract_Convection/ConvMod2.00145.ppm0\r\n",
      "Pract_Convection/ConvMod2.00055.ppm0  Pract_Convection/ConvMod2.00146.ppm0\r\n",
      "Pract_Convection/ConvMod2.00056.ppm0  Pract_Convection/ConvMod2.00147.ppm0\r\n",
      "Pract_Convection/ConvMod2.00057.ppm0  Pract_Convection/ConvMod2.00148.ppm0\r\n",
      "Pract_Convection/ConvMod2.00058.ppm0  Pract_Convection/ConvMod2.00149.ppm0\r\n",
      "Pract_Convection/ConvMod2.00059.ppm0  Pract_Convection/ConvMod2.00150.ppm0\r\n",
      "Pract_Convection/ConvMod2.00060.ppm0  Pract_Convection/ConvMod2.00151.ppm0\r\n",
      "Pract_Convection/ConvMod2.00061.ppm0  Pract_Convection/ConvMod2.00152.ppm0\r\n",
      "Pract_Convection/ConvMod2.00062.ppm0  Pract_Convection/ConvMod2.00153.ppm0\r\n",
      "Pract_Convection/ConvMod2.00063.ppm0  Pract_Convection/ConvMod2.00154.ppm0\r\n",
      "Pract_Convection/ConvMod2.00064.ppm0  Pract_Convection/ConvMod2.00155.ppm0\r\n",
      "Pract_Convection/ConvMod2.00065.ppm0  Pract_Convection/ConvMod2.00156.ppm0\r\n",
      "Pract_Convection/ConvMod2.00066.ppm0  Pract_Convection/ConvMod2.00157.ppm0\r\n",
      "Pract_Convection/ConvMod2.00067.ppm0  Pract_Convection/ConvMod2.00158.ppm0\r\n",
      "Pract_Convection/ConvMod2.00068.ppm0  Pract_Convection/ConvMod2.00159.ppm0\r\n",
      "Pract_Convection/ConvMod2.00069.ppm0  Pract_Convection/ConvMod2.00160.ppm0\r\n",
      "Pract_Convection/ConvMod2.00070.ppm0  Pract_Convection/ConvMod2.00161.ppm0\r\n",
      "Pract_Convection/ConvMod2.00071.ppm0  Pract_Convection/ConvMod2.00162.ppm0\r\n",
      "Pract_Convection/ConvMod2.00072.ppm0  Pract_Convection/ConvMod2.00163.ppm0\r\n",
      "Pract_Convection/ConvMod2.00073.ppm0  Pract_Convection/ConvMod2.00164.ppm0\r\n",
      "Pract_Convection/ConvMod2.00074.ppm0  Pract_Convection/ConvMod2.00165.ppm0\r\n",
      "Pract_Convection/ConvMod2.00075.ppm0  Pract_Convection/ConvMod2.00166.ppm0\r\n",
      "Pract_Convection/ConvMod2.00076.ppm0  Pract_Convection/ConvMod2.00167.ppm0\r\n",
      "Pract_Convection/ConvMod2.00077.ppm0  Pract_Convection/ConvMod2.00168.ppm0\r\n",
      "Pract_Convection/ConvMod2.00078.ppm0  Pract_Convection/ConvMod2.00169.ppm0\r\n",
      "Pract_Convection/ConvMod2.00079.ppm0  Pract_Convection/ConvMod2.00170.ppm0\r\n",
      "Pract_Convection/ConvMod2.00080.ppm0  Pract_Convection/ConvMod2.00171.ppm0\r\n",
      "Pract_Convection/ConvMod2.00081.ppm0  Pract_Convection/ConvMod2.00172.ppm0\r\n",
      "Pract_Convection/ConvMod2.00082.ppm0  Pract_Convection/ConvMod2.00173.ppm0\r\n",
      "Pract_Convection/ConvMod2.00083.ppm0  Pract_Convection/ConvMod2.00174.ppm0\r\n",
      "Pract_Convection/ConvMod2.00084.ppm0  Pract_Convection/ConvMod2.00175.ppm0\r\n",
      "Pract_Convection/ConvMod2.00085.ppm0  Pract_Convection/ConvMod2.00176.ppm0\r\n",
      "Pract_Convection/ConvMod2.00086.ppm0  Pract_Convection/ConvMod2.00177.ppm0\r\n",
      "Pract_Convection/ConvMod2.00087.ppm0  Pract_Convection/ConvMod2.00178.ppm0\r\n",
      "Pract_Convection/ConvMod2.00088.ppm0  Pract_Convection/ConvMod2.00179.ppm0\r\n",
      "Pract_Convection/ConvMod2.00089.ppm0  Pract_Convection/ConvMod2.00180.ppm0\r\n",
      "Pract_Convection/ConvMod2.00090.ppm0  Pract_Convection/ConvMod2.start.ppm0\r\n",
      "Pract_Convection/ConvMod2.00091.ppm0\r\n"
     ]
    }
   ],
   "source": [
    "!ls Pract_Convection/*.ppm0"
   ]
  },
  {
   "cell_type": "markdown",
   "metadata": {},
   "source": [
    "## Single time step"
   ]
  },
  {
   "cell_type": "code",
   "execution_count": 3,
   "metadata": {
    "collapsed": false
   },
   "outputs": [],
   "source": [
    "def show_PPM(ppmfile,length=18,width=5):\n",
    "    '''\n",
    "    Based on a specify output PPM file renders the corresponding image in the notebook\n",
    "    '''\n",
    "    fig, ax = plt.subplots(figsize=(length, width))\n",
    "    ellipsisPPM = Image.open(ppmfile, 'r')\n",
    "    ax.imshow(np.asarray(ellipsisPPM), interpolation='nearest')\n",
    "    plt.tight_layout()\n",
    "    \n",
    "    return"
   ]
  },
  {
   "cell_type": "code",
   "execution_count": 5,
   "metadata": {
    "collapsed": false
   },
   "outputs": [
    {
     "ename": "IOError",
     "evalue": "[Errno 2] No such file or directory: 'ConvMod2.00115.ppm0'",
     "output_type": "error",
     "traceback": [
      "\u001b[0;31m\u001b[0m",
      "\u001b[0;31mIOError\u001b[0mTraceback (most recent call last)",
      "\u001b[0;32m<ipython-input-5-6cc821cc5983>\u001b[0m in \u001b[0;36m<module>\u001b[0;34m()\u001b[0m\n\u001b[0;32m----> 1\u001b[0;31m \u001b[0mshow_PPM\u001b[0m\u001b[0;34m(\u001b[0m\u001b[0;34m'ConvMod2.00115.ppm0'\u001b[0m\u001b[0;34m,\u001b[0m\u001b[0;36m18\u001b[0m\u001b[0;34m,\u001b[0m\u001b[0;36m5\u001b[0m\u001b[0;34m)\u001b[0m\u001b[0;34m\u001b[0m\u001b[0m\n\u001b[0m",
      "\u001b[0;32m<ipython-input-3-fc9313d1c149>\u001b[0m in \u001b[0;36mshow_PPM\u001b[0;34m(ppmfile, length, width)\u001b[0m\n\u001b[1;32m      4\u001b[0m     '''\n\u001b[1;32m      5\u001b[0m     \u001b[0mfig\u001b[0m\u001b[0;34m,\u001b[0m \u001b[0max\u001b[0m \u001b[0;34m=\u001b[0m \u001b[0mplt\u001b[0m\u001b[0;34m.\u001b[0m\u001b[0msubplots\u001b[0m\u001b[0;34m(\u001b[0m\u001b[0mfigsize\u001b[0m\u001b[0;34m=\u001b[0m\u001b[0;34m(\u001b[0m\u001b[0mlength\u001b[0m\u001b[0;34m,\u001b[0m \u001b[0mwidth\u001b[0m\u001b[0;34m)\u001b[0m\u001b[0;34m)\u001b[0m\u001b[0;34m\u001b[0m\u001b[0m\n\u001b[0;32m----> 6\u001b[0;31m     \u001b[0mellipsisPPM\u001b[0m \u001b[0;34m=\u001b[0m \u001b[0mImage\u001b[0m\u001b[0;34m.\u001b[0m\u001b[0mopen\u001b[0m\u001b[0;34m(\u001b[0m\u001b[0mppmfile\u001b[0m\u001b[0;34m,\u001b[0m \u001b[0;34m'r'\u001b[0m\u001b[0;34m)\u001b[0m\u001b[0;34m\u001b[0m\u001b[0m\n\u001b[0m\u001b[1;32m      7\u001b[0m     \u001b[0max\u001b[0m\u001b[0;34m.\u001b[0m\u001b[0mimshow\u001b[0m\u001b[0;34m(\u001b[0m\u001b[0mnp\u001b[0m\u001b[0;34m.\u001b[0m\u001b[0masarray\u001b[0m\u001b[0;34m(\u001b[0m\u001b[0mellipsisPPM\u001b[0m\u001b[0;34m)\u001b[0m\u001b[0;34m,\u001b[0m \u001b[0minterpolation\u001b[0m\u001b[0;34m=\u001b[0m\u001b[0;34m'nearest'\u001b[0m\u001b[0;34m)\u001b[0m\u001b[0;34m\u001b[0m\u001b[0m\n\u001b[1;32m      8\u001b[0m     \u001b[0mplt\u001b[0m\u001b[0;34m.\u001b[0m\u001b[0mtight_layout\u001b[0m\u001b[0;34m(\u001b[0m\u001b[0;34m)\u001b[0m\u001b[0;34m\u001b[0m\u001b[0m\n",
      "\u001b[0;32m/usr/local/lib/python2.7/dist-packages/PIL/Image.pyc\u001b[0m in \u001b[0;36mopen\u001b[0;34m(fp, mode)\u001b[0m\n\u001b[1;32m   2280\u001b[0m \u001b[0;34m\u001b[0m\u001b[0m\n\u001b[1;32m   2281\u001b[0m     \u001b[0;32mif\u001b[0m \u001b[0mfilename\u001b[0m\u001b[0;34m:\u001b[0m\u001b[0;34m\u001b[0m\u001b[0m\n\u001b[0;32m-> 2282\u001b[0;31m         \u001b[0mfp\u001b[0m \u001b[0;34m=\u001b[0m \u001b[0mbuiltins\u001b[0m\u001b[0;34m.\u001b[0m\u001b[0mopen\u001b[0m\u001b[0;34m(\u001b[0m\u001b[0mfilename\u001b[0m\u001b[0;34m,\u001b[0m \u001b[0;34m\"rb\"\u001b[0m\u001b[0;34m)\u001b[0m\u001b[0;34m\u001b[0m\u001b[0m\n\u001b[0m\u001b[1;32m   2283\u001b[0m \u001b[0;34m\u001b[0m\u001b[0m\n\u001b[1;32m   2284\u001b[0m     \u001b[0;32mtry\u001b[0m\u001b[0;34m:\u001b[0m\u001b[0;34m\u001b[0m\u001b[0m\n",
      "\u001b[0;31mIOError\u001b[0m: [Errno 2] No such file or directory: 'ConvMod2.00115.ppm0'"
     ]
    },
    {
     "data": {
      "image/png": "[encoded data removed]",
      "text/plain": [
       "<matplotlib.figure.Figure at 0x7f0da31b1890>"
      ]
     },
     "metadata": {},
     "output_type": "display_data"
    }
   ],
   "source": [
    "show_PPM('ConvMod2.00115.ppm0',18,5)"
   ]
  },
  {
   "cell_type": "markdown",
   "metadata": {},
   "source": [
    "### Animation\n",
    "\n",
    "Convert series of PPM files into an animated gif.\n",
    "\n",
    "-delay and -quality flags are optional. \n",
    "+ If -delay is set >4, it will add extra frames to make the movie run more slowly, thereby increasing the size of the file. \n",
    "+ The default quality is 75 and maximum is 100."
   ]
  },
  {
   "cell_type": "code",
   "execution_count": 29,
   "metadata": {
    "collapsed": true
   },
   "outputs": [],
   "source": [
    "!convert -delay 5 -quality 75 ConvMod2.*.ppm0 convection.gif"
   ]
  },
  {
   "cell_type": "markdown",
   "metadata": {},
   "source": [
    "### Visualise the gif in the notebook\n",
    "\n",
    "![ellipsis convection model](convection.gif \"Convection Model Animation\")"
   ]
  },
  {
   "cell_type": "code",
   "execution_count": null,
   "metadata": {
    "collapsed": true
   },
   "outputs": [],
   "source": []
  }
 ],
 "metadata": {
  "kernelspec": {
   "display_name": "Python 2",
   "language": "python",
   "name": "python2"
  },
  "language_info": {
   "codemirror_mode": {
    "name": "ipython",
    "version": 2
   },
   "file_extension": ".py",
   "mimetype": "text/x-python",
   "name": "python",
   "nbconvert_exporter": "python",
   "pygments_lexer": "ipython2",
   "version": "2.7.6"
  }
 },
 "nbformat": 4,
 "nbformat_minor": 1
}
